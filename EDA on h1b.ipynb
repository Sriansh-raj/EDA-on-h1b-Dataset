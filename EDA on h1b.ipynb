{
 "cells": [
  {
   "cell_type": "markdown",
   "id": "11877eef",
   "metadata": {},
   "source": [
    "<h1 align=\"center\" style=\"color:blue\"><u>Exploratory Data Analysis on h1b Dataset</u></h1>"
   ]
  },
  {
   "cell_type": "markdown",
   "id": "e8fe9d46",
   "metadata": {},
   "source": [
    "<h3 align=\"right\"> ~ Sriansh Raj Pradhan </h3>"
   ]
  },
  {
   "cell_type": "markdown",
   "id": "64ffa9b1",
   "metadata": {},
   "source": [
    "   ## import required libraries -"
   ]
  },
  {
   "cell_type": "code",
   "execution_count": 1,
   "id": "f0526f07",
   "metadata": {},
   "outputs": [],
   "source": [
    "import pandas as pd\n",
    "import numpy as np\n",
    "import matplotlib.pyplot as plt\n",
    "import seaborn as sns"
   ]
  },
  {
   "cell_type": "markdown",
   "id": "06070d92",
   "metadata": {},
   "source": [
    "   ## Dataset of the project - "
   ]
  },
  {
   "cell_type": "code",
   "execution_count": 7,
   "id": "24fdb98b",
   "metadata": {},
   "outputs": [
    {
     "data": {
      "text/html": [
       "<div>\n",
       "<style scoped>\n",
       "    .dataframe tbody tr th:only-of-type {\n",
       "        vertical-align: middle;\n",
       "    }\n",
       "\n",
       "    .dataframe tbody tr th {\n",
       "        vertical-align: top;\n",
       "    }\n",
       "\n",
       "    .dataframe thead th {\n",
       "        text-align: right;\n",
       "    }\n",
       "</style>\n",
       "<table border=\"1\" class=\"dataframe\">\n",
       "  <thead>\n",
       "    <tr style=\"text-align: right;\">\n",
       "      <th></th>\n",
       "      <th>CASE_NUMBER</th>\n",
       "      <th>CASE_STATUS</th>\n",
       "      <th>EMPLOYER_NAME</th>\n",
       "      <th>SOC_NAME</th>\n",
       "      <th>SOC_CODE</th>\n",
       "      <th>JOB_TITLE</th>\n",
       "      <th>FULL_TIME_POSITION</th>\n",
       "      <th>PREVAILING_WAGE</th>\n",
       "      <th>WORKSITE_CITY</th>\n",
       "      <th>WORKSITE_STATE_ABB</th>\n",
       "      <th>YEAR</th>\n",
       "      <th>WORKSITE_STATE_FULL</th>\n",
       "      <th>WORKSITE</th>\n",
       "    </tr>\n",
       "  </thead>\n",
       "  <tbody>\n",
       "    <tr>\n",
       "      <th>0</th>\n",
       "      <td>I-200-09285-514415</td>\n",
       "      <td>CERTIFIED</td>\n",
       "      <td>IT CATS LLC</td>\n",
       "      <td>COMPUTER SYSTEMS ANALYSTS</td>\n",
       "      <td>15-1121</td>\n",
       "      <td>SENIOR BUSINESS ANALYST</td>\n",
       "      <td>Y</td>\n",
       "      <td>109116.8</td>\n",
       "      <td>NORTH WALES,</td>\n",
       "      <td>PA</td>\n",
       "      <td>2015</td>\n",
       "      <td>PENNSYLVANIA</td>\n",
       "      <td>NORTH WALES, PENNSYLVANIA</td>\n",
       "    </tr>\n",
       "    <tr>\n",
       "      <th>1</th>\n",
       "      <td>I-200-09341-564186</td>\n",
       "      <td>CERTIFIED-WITHDRAWN</td>\n",
       "      <td>XPERT TECHNOLOGIES, INC.</td>\n",
       "      <td>COMPUTER OCCUPATIONS, ALL OTHER*</td>\n",
       "      <td>15-1799</td>\n",
       "      <td>QUALITY ASSURANCE ANALYST</td>\n",
       "      <td>Y</td>\n",
       "      <td>58282.0</td>\n",
       "      <td>CAMP HILL</td>\n",
       "      <td>PA</td>\n",
       "      <td>2015</td>\n",
       "      <td>PENNSYLVANIA</td>\n",
       "      <td>CAMP HILL, PENNSYLVANIA</td>\n",
       "    </tr>\n",
       "    <tr>\n",
       "      <th>2</th>\n",
       "      <td>I-200-09342-274341</td>\n",
       "      <td>CERTIFIED</td>\n",
       "      <td>ISR INFO WAY, INC.</td>\n",
       "      <td>SOFTWARE DEVELOPERS, APPLICATIONS</td>\n",
       "      <td>15-1132</td>\n",
       "      <td>SR. SOFTWARE DEVELOPER</td>\n",
       "      <td>Y</td>\n",
       "      <td>84906.0</td>\n",
       "      <td>CHICAGO</td>\n",
       "      <td>IL</td>\n",
       "      <td>2015</td>\n",
       "      <td>ILLINOIS</td>\n",
       "      <td>CHICAGO, ILLINOIS</td>\n",
       "    </tr>\n",
       "    <tr>\n",
       "      <th>3</th>\n",
       "      <td>I-200-09364-425868</td>\n",
       "      <td>CERTIFIED</td>\n",
       "      <td>MAGIC CIRCLE FILMS INTERNATIONAL LLC</td>\n",
       "      <td>FILM AND VIDEO EDITORS</td>\n",
       "      <td>27-4032</td>\n",
       "      <td>VIDEO EDITOR</td>\n",
       "      <td>Y</td>\n",
       "      <td>39333.0</td>\n",
       "      <td>AUBURN</td>\n",
       "      <td>NY</td>\n",
       "      <td>2015</td>\n",
       "      <td>NEW YORK</td>\n",
       "      <td>AUBURN, NEW YORK</td>\n",
       "    </tr>\n",
       "    <tr>\n",
       "      <th>4</th>\n",
       "      <td>I-200-10006-413683</td>\n",
       "      <td>WITHDRAWN</td>\n",
       "      <td>SAPHIRE SOLUTIONS INC</td>\n",
       "      <td>NETWORK AND COMPUTER SYSTEMS ADMINISTRATORS</td>\n",
       "      <td>15-1142</td>\n",
       "      <td>SYSTEMS ADMINISTRATOR</td>\n",
       "      <td>Y</td>\n",
       "      <td>68638.0</td>\n",
       "      <td>BETHPAGE</td>\n",
       "      <td>NY</td>\n",
       "      <td>2015</td>\n",
       "      <td>NEW YORK</td>\n",
       "      <td>BETHPAGE, NEW YORK</td>\n",
       "    </tr>\n",
       "  </tbody>\n",
       "</table>\n",
       "</div>"
      ],
      "text/plain": [
       "          CASE_NUMBER          CASE_STATUS  \\\n",
       "0  I-200-09285-514415            CERTIFIED   \n",
       "1  I-200-09341-564186  CERTIFIED-WITHDRAWN   \n",
       "2  I-200-09342-274341            CERTIFIED   \n",
       "3  I-200-09364-425868            CERTIFIED   \n",
       "4  I-200-10006-413683            WITHDRAWN   \n",
       "\n",
       "                          EMPLOYER_NAME  \\\n",
       "0                           IT CATS LLC   \n",
       "1              XPERT TECHNOLOGIES, INC.   \n",
       "2                    ISR INFO WAY, INC.   \n",
       "3  MAGIC CIRCLE FILMS INTERNATIONAL LLC   \n",
       "4                 SAPHIRE SOLUTIONS INC   \n",
       "\n",
       "                                      SOC_NAME SOC_CODE  \\\n",
       "0                    COMPUTER SYSTEMS ANALYSTS  15-1121   \n",
       "1             COMPUTER OCCUPATIONS, ALL OTHER*  15-1799   \n",
       "2            SOFTWARE DEVELOPERS, APPLICATIONS  15-1132   \n",
       "3                       FILM AND VIDEO EDITORS  27-4032   \n",
       "4  NETWORK AND COMPUTER SYSTEMS ADMINISTRATORS  15-1142   \n",
       "\n",
       "                   JOB_TITLE FULL_TIME_POSITION  PREVAILING_WAGE  \\\n",
       "0    SENIOR BUSINESS ANALYST                  Y         109116.8   \n",
       "1  QUALITY ASSURANCE ANALYST                  Y          58282.0   \n",
       "2     SR. SOFTWARE DEVELOPER                  Y          84906.0   \n",
       "3               VIDEO EDITOR                  Y          39333.0   \n",
       "4      SYSTEMS ADMINISTRATOR                  Y          68638.0   \n",
       "\n",
       "  WORKSITE_CITY WORKSITE_STATE_ABB  YEAR WORKSITE_STATE_FULL  \\\n",
       "0  NORTH WALES,                 PA  2015        PENNSYLVANIA   \n",
       "1     CAMP HILL                 PA  2015        PENNSYLVANIA   \n",
       "2       CHICAGO                 IL  2015            ILLINOIS   \n",
       "3        AUBURN                 NY  2015            NEW YORK   \n",
       "4      BETHPAGE                 NY  2015            NEW YORK   \n",
       "\n",
       "                    WORKSITE  \n",
       "0  NORTH WALES, PENNSYLVANIA  \n",
       "1    CAMP HILL, PENNSYLVANIA  \n",
       "2          CHICAGO, ILLINOIS  \n",
       "3           AUBURN, NEW YORK  \n",
       "4         BETHPAGE, NEW YORK  "
      ]
     },
     "execution_count": 7,
     "metadata": {},
     "output_type": "execute_result"
    }
   ],
   "source": [
    "df = pd.read_csv(\"h1b.csv\", encoding='latin-1')\n",
    "df.head()"
   ]
  },
  {
   "cell_type": "code",
   "execution_count": 8,
   "id": "6bf5ef1a",
   "metadata": {},
   "outputs": [
    {
     "data": {
      "text/html": [
       "<div>\n",
       "<style scoped>\n",
       "    .dataframe tbody tr th:only-of-type {\n",
       "        vertical-align: middle;\n",
       "    }\n",
       "\n",
       "    .dataframe tbody tr th {\n",
       "        vertical-align: top;\n",
       "    }\n",
       "\n",
       "    .dataframe thead th {\n",
       "        text-align: right;\n",
       "    }\n",
       "</style>\n",
       "<table border=\"1\" class=\"dataframe\">\n",
       "  <thead>\n",
       "    <tr style=\"text-align: right;\">\n",
       "      <th></th>\n",
       "      <th>CASE_NUMBER</th>\n",
       "      <th>CASE_STATUS</th>\n",
       "      <th>EMPLOYER_NAME</th>\n",
       "      <th>SOC_NAME</th>\n",
       "      <th>SOC_CODE</th>\n",
       "      <th>JOB_TITLE</th>\n",
       "      <th>FULL_TIME_POSITION</th>\n",
       "      <th>PREVAILING_WAGE</th>\n",
       "      <th>WORKSITE_CITY</th>\n",
       "      <th>WORKSITE_STATE_ABB</th>\n",
       "      <th>YEAR</th>\n",
       "      <th>WORKSITE_STATE_FULL</th>\n",
       "      <th>WORKSITE</th>\n",
       "    </tr>\n",
       "  </thead>\n",
       "  <tbody>\n",
       "    <tr>\n",
       "      <th>857211</th>\n",
       "      <td>I-200-19053-522403</td>\n",
       "      <td>CERTIFIED</td>\n",
       "      <td>JETBLUE AIRWAYS</td>\n",
       "      <td>TRANSPORTATION INSPECTORS</td>\n",
       "      <td>53-6051</td>\n",
       "      <td>SENIOR INVESTIGATOR AIR SAFETY</td>\n",
       "      <td>Y</td>\n",
       "      <td>74152.0</td>\n",
       "      <td>Long Island City</td>\n",
       "      <td>NEWYORK</td>\n",
       "      <td>2019</td>\n",
       "      <td>NEW YORK</td>\n",
       "      <td>Long Island City, NEW YORK</td>\n",
       "    </tr>\n",
       "    <tr>\n",
       "      <th>857212</th>\n",
       "      <td>I-200-18282-647333</td>\n",
       "      <td>CERTIFIED</td>\n",
       "      <td>AMERICAN FAMILY MUTUAL INSURANCE COMPANY</td>\n",
       "      <td>15-2031</td>\n",
       "      <td>OPERATIONS RESEARCH ANALYSTS</td>\n",
       "      <td>DIGITAL TOUCHPOINTS ANALYST</td>\n",
       "      <td>Y</td>\n",
       "      <td>75733.0</td>\n",
       "      <td>MADISON</td>\n",
       "      <td>WI</td>\n",
       "      <td>2019</td>\n",
       "      <td>WISCONSIN</td>\n",
       "      <td>MADISON, WISCONSIN</td>\n",
       "    </tr>\n",
       "    <tr>\n",
       "      <th>857213</th>\n",
       "      <td>I-200-19046-203745</td>\n",
       "      <td>DENIED</td>\n",
       "      <td>CAPGEMINI AMERICA INC</td>\n",
       "      <td>NaN</td>\n",
       "      <td>NaN</td>\n",
       "      <td>APPLICATIONS CONSULTANT 2</td>\n",
       "      <td>Y</td>\n",
       "      <td>80704.0</td>\n",
       "      <td>DEARBORN</td>\n",
       "      <td>MICHIGAN</td>\n",
       "      <td>2019</td>\n",
       "      <td>MICHIGAN</td>\n",
       "      <td>DEARBORN, MICHIGAN</td>\n",
       "    </tr>\n",
       "    <tr>\n",
       "      <th>857214</th>\n",
       "      <td>I-200-19059-900658</td>\n",
       "      <td>DENIED</td>\n",
       "      <td>CAPGEMINI AMERICA INC</td>\n",
       "      <td>NaN</td>\n",
       "      <td>NaN</td>\n",
       "      <td>BUSINESS SYSTEMS ANALYST 2</td>\n",
       "      <td>Y</td>\n",
       "      <td>74443.0</td>\n",
       "      <td>NEW YORK</td>\n",
       "      <td>NEWYORK</td>\n",
       "      <td>2019</td>\n",
       "      <td>NEW YORK</td>\n",
       "      <td>NEW YORK, NEW YORK</td>\n",
       "    </tr>\n",
       "    <tr>\n",
       "      <th>857215</th>\n",
       "      <td>I-200-19073-908844</td>\n",
       "      <td>DENIED</td>\n",
       "      <td>CAPGEMINI AMERICA INC</td>\n",
       "      <td>NaN</td>\n",
       "      <td>NaN</td>\n",
       "      <td>BUSINESS SYSTEMS ANALYST 2</td>\n",
       "      <td>Y</td>\n",
       "      <td>66643.0</td>\n",
       "      <td>MADISON</td>\n",
       "      <td>WISCONSIN</td>\n",
       "      <td>2019</td>\n",
       "      <td>WISCONSIN</td>\n",
       "      <td>MADISON, WISCONSIN</td>\n",
       "    </tr>\n",
       "  </tbody>\n",
       "</table>\n",
       "</div>"
      ],
      "text/plain": [
       "               CASE_NUMBER CASE_STATUS  \\\n",
       "857211  I-200-19053-522403   CERTIFIED   \n",
       "857212  I-200-18282-647333   CERTIFIED   \n",
       "857213  I-200-19046-203745      DENIED   \n",
       "857214  I-200-19059-900658      DENIED   \n",
       "857215  I-200-19073-908844      DENIED   \n",
       "\n",
       "                                   EMPLOYER_NAME                   SOC_NAME  \\\n",
       "857211                           JETBLUE AIRWAYS  TRANSPORTATION INSPECTORS   \n",
       "857212  AMERICAN FAMILY MUTUAL INSURANCE COMPANY                    15-2031   \n",
       "857213                     CAPGEMINI AMERICA INC                        NaN   \n",
       "857214                     CAPGEMINI AMERICA INC                        NaN   \n",
       "857215                     CAPGEMINI AMERICA INC                        NaN   \n",
       "\n",
       "                            SOC_CODE                       JOB_TITLE  \\\n",
       "857211                       53-6051  SENIOR INVESTIGATOR AIR SAFETY   \n",
       "857212  OPERATIONS RESEARCH ANALYSTS     DIGITAL TOUCHPOINTS ANALYST   \n",
       "857213                           NaN       APPLICATIONS CONSULTANT 2   \n",
       "857214                           NaN      BUSINESS SYSTEMS ANALYST 2   \n",
       "857215                           NaN      BUSINESS SYSTEMS ANALYST 2   \n",
       "\n",
       "       FULL_TIME_POSITION  PREVAILING_WAGE     WORKSITE_CITY  \\\n",
       "857211                  Y          74152.0  Long Island City   \n",
       "857212                  Y          75733.0           MADISON   \n",
       "857213                  Y          80704.0          DEARBORN   \n",
       "857214                  Y          74443.0          NEW YORK   \n",
       "857215                  Y          66643.0           MADISON   \n",
       "\n",
       "       WORKSITE_STATE_ABB  YEAR WORKSITE_STATE_FULL  \\\n",
       "857211            NEWYORK  2019            NEW YORK   \n",
       "857212                 WI  2019           WISCONSIN   \n",
       "857213           MICHIGAN  2019            MICHIGAN   \n",
       "857214            NEWYORK  2019            NEW YORK   \n",
       "857215          WISCONSIN  2019           WISCONSIN   \n",
       "\n",
       "                          WORKSITE  \n",
       "857211  Long Island City, NEW YORK  \n",
       "857212          MADISON, WISCONSIN  \n",
       "857213          DEARBORN, MICHIGAN  \n",
       "857214          NEW YORK, NEW YORK  \n",
       "857215          MADISON, WISCONSIN  "
      ]
     },
     "execution_count": 8,
     "metadata": {},
     "output_type": "execute_result"
    }
   ],
   "source": [
    "df.tail()"
   ]
  },
  {
   "cell_type": "code",
   "execution_count": 9,
   "id": "1696eb27",
   "metadata": {},
   "outputs": [
    {
     "name": "stdout",
     "output_type": "stream",
     "text": [
      "<class 'pandas.core.frame.DataFrame'>\n",
      "RangeIndex: 857216 entries, 0 to 857215\n",
      "Data columns (total 13 columns):\n",
      " #   Column               Non-Null Count   Dtype  \n",
      "---  ------               --------------   -----  \n",
      " 0   CASE_NUMBER          857216 non-null  object \n",
      " 1   CASE_STATUS          857216 non-null  object \n",
      " 2   EMPLOYER_NAME        857195 non-null  object \n",
      " 3   SOC_NAME             857210 non-null  object \n",
      " 4   SOC_CODE             857212 non-null  object \n",
      " 5   JOB_TITLE            857211 non-null  object \n",
      " 6   FULL_TIME_POSITION   857215 non-null  object \n",
      " 7   PREVAILING_WAGE      857212 non-null  float64\n",
      " 8   WORKSITE_CITY        857188 non-null  object \n",
      " 9   WORKSITE_STATE_ABB   857216 non-null  object \n",
      " 10  YEAR                 857216 non-null  int64  \n",
      " 11  WORKSITE_STATE_FULL  857216 non-null  object \n",
      " 12  WORKSITE             857216 non-null  object \n",
      "dtypes: float64(1), int64(1), object(11)\n",
      "memory usage: 85.0+ MB\n"
     ]
    }
   ],
   "source": [
    "df.info()"
   ]
  },
  {
   "cell_type": "markdown",
   "id": "68efbf63",
   "metadata": {},
   "source": [
    "    There are missing values and hence we need Data Cleansing to remove such values."
   ]
  },
  {
   "cell_type": "markdown",
   "id": "ce622e89",
   "metadata": {},
   "source": [
    "   ## Data Cleansing -"
   ]
  },
  {
   "cell_type": "code",
   "execution_count": 16,
   "id": "373059e3",
   "metadata": {},
   "outputs": [
    {
     "data": {
      "text/html": [
       "<style type=\"text/css\">\n",
       "#T_63b3d_row0_col7, #T_63b3d_row4_col7, #T_63b3d_row4_col10, #T_63b3d_row5_col10, #T_63b3d_row6_col7, #T_63b3d_row6_col10, #T_63b3d_row7_col7, #T_63b3d_row7_col10, #T_63b3d_row8_col7, #T_63b3d_row8_col10, #T_63b3d_row9_col7, #T_63b3d_row9_col10, #T_63b3d_row10_col10 {\n",
       "  background-color: #000004;\n",
       "  color: #f1f1f1;\n",
       "}\n",
       "#T_63b3d_row0_col10, #T_63b3d_row10_col7 {\n",
       "  background-color: #fcfdbf;\n",
       "  color: #000000;\n",
       "}\n",
       "#T_63b3d_row1_col7, #T_63b3d_row1_col10, #T_63b3d_row2_col7, #T_63b3d_row2_col10, #T_63b3d_row3_col7, #T_63b3d_row3_col10 {\n",
       "  background-color: #000000;\n",
       "  color: #f1f1f1;\n",
       "}\n",
       "#T_63b3d_row5_col7 {\n",
       "  background-color: #010005;\n",
       "  color: #f1f1f1;\n",
       "}\n",
       "</style>\n",
       "<table id=\"T_63b3d\">\n",
       "  <thead>\n",
       "    <tr>\n",
       "      <th class=\"blank level0\" >&nbsp;</th>\n",
       "      <th id=\"T_63b3d_level0_col0\" class=\"col_heading level0 col0\" >CASE_NUMBER</th>\n",
       "      <th id=\"T_63b3d_level0_col1\" class=\"col_heading level0 col1\" >CASE_STATUS</th>\n",
       "      <th id=\"T_63b3d_level0_col2\" class=\"col_heading level0 col2\" >EMPLOYER_NAME</th>\n",
       "      <th id=\"T_63b3d_level0_col3\" class=\"col_heading level0 col3\" >SOC_NAME</th>\n",
       "      <th id=\"T_63b3d_level0_col4\" class=\"col_heading level0 col4\" >SOC_CODE</th>\n",
       "      <th id=\"T_63b3d_level0_col5\" class=\"col_heading level0 col5\" >JOB_TITLE</th>\n",
       "      <th id=\"T_63b3d_level0_col6\" class=\"col_heading level0 col6\" >FULL_TIME_POSITION</th>\n",
       "      <th id=\"T_63b3d_level0_col7\" class=\"col_heading level0 col7\" >PREVAILING_WAGE</th>\n",
       "      <th id=\"T_63b3d_level0_col8\" class=\"col_heading level0 col8\" >WORKSITE_CITY</th>\n",
       "      <th id=\"T_63b3d_level0_col9\" class=\"col_heading level0 col9\" >WORKSITE_STATE_ABB</th>\n",
       "      <th id=\"T_63b3d_level0_col10\" class=\"col_heading level0 col10\" >YEAR</th>\n",
       "      <th id=\"T_63b3d_level0_col11\" class=\"col_heading level0 col11\" >WORKSITE_STATE_FULL</th>\n",
       "      <th id=\"T_63b3d_level0_col12\" class=\"col_heading level0 col12\" >WORKSITE</th>\n",
       "    </tr>\n",
       "  </thead>\n",
       "  <tbody>\n",
       "    <tr>\n",
       "      <th id=\"T_63b3d_level0_row0\" class=\"row_heading level0 row0\" >count</th>\n",
       "      <td id=\"T_63b3d_row0_col0\" class=\"data row0 col0\" >857216</td>\n",
       "      <td id=\"T_63b3d_row0_col1\" class=\"data row0 col1\" >857216</td>\n",
       "      <td id=\"T_63b3d_row0_col2\" class=\"data row0 col2\" >857195</td>\n",
       "      <td id=\"T_63b3d_row0_col3\" class=\"data row0 col3\" >857210</td>\n",
       "      <td id=\"T_63b3d_row0_col4\" class=\"data row0 col4\" >857212</td>\n",
       "      <td id=\"T_63b3d_row0_col5\" class=\"data row0 col5\" >857211</td>\n",
       "      <td id=\"T_63b3d_row0_col6\" class=\"data row0 col6\" >857215</td>\n",
       "      <td id=\"T_63b3d_row0_col7\" class=\"data row0 col7\" >857212.000000</td>\n",
       "      <td id=\"T_63b3d_row0_col8\" class=\"data row0 col8\" >857188</td>\n",
       "      <td id=\"T_63b3d_row0_col9\" class=\"data row0 col9\" >857216</td>\n",
       "      <td id=\"T_63b3d_row0_col10\" class=\"data row0 col10\" >857216.000000</td>\n",
       "      <td id=\"T_63b3d_row0_col11\" class=\"data row0 col11\" >857216</td>\n",
       "      <td id=\"T_63b3d_row0_col12\" class=\"data row0 col12\" >857216</td>\n",
       "    </tr>\n",
       "    <tr>\n",
       "      <th id=\"T_63b3d_level0_row1\" class=\"row_heading level0 row1\" >unique</th>\n",
       "      <td id=\"T_63b3d_row1_col0\" class=\"data row1 col0\" >839446</td>\n",
       "      <td id=\"T_63b3d_row1_col1\" class=\"data row1 col1\" >4</td>\n",
       "      <td id=\"T_63b3d_row1_col2\" class=\"data row1 col2\" >70044</td>\n",
       "      <td id=\"T_63b3d_row1_col3\" class=\"data row1 col3\" >1106</td>\n",
       "      <td id=\"T_63b3d_row1_col4\" class=\"data row1 col4\" >867</td>\n",
       "      <td id=\"T_63b3d_row1_col5\" class=\"data row1 col5\" >111352</td>\n",
       "      <td id=\"T_63b3d_row1_col6\" class=\"data row1 col6\" >2</td>\n",
       "      <td id=\"T_63b3d_row1_col7\" class=\"data row1 col7\" >nan</td>\n",
       "      <td id=\"T_63b3d_row1_col8\" class=\"data row1 col8\" >7999</td>\n",
       "      <td id=\"T_63b3d_row1_col9\" class=\"data row1 col9\" >16</td>\n",
       "      <td id=\"T_63b3d_row1_col10\" class=\"data row1 col10\" >nan</td>\n",
       "      <td id=\"T_63b3d_row1_col11\" class=\"data row1 col11\" >8</td>\n",
       "      <td id=\"T_63b3d_row1_col12\" class=\"data row1 col12\" >7413</td>\n",
       "    </tr>\n",
       "    <tr>\n",
       "      <th id=\"T_63b3d_level0_row2\" class=\"row_heading level0 row2\" >top</th>\n",
       "      <td id=\"T_63b3d_row2_col0\" class=\"data row2 col0\" >I-200-15054-406343</td>\n",
       "      <td id=\"T_63b3d_row2_col1\" class=\"data row2 col1\" >CERTIFIED</td>\n",
       "      <td id=\"T_63b3d_row2_col2\" class=\"data row2 col2\" >INFOSYS LIMITED</td>\n",
       "      <td id=\"T_63b3d_row2_col3\" class=\"data row2 col3\" >SOFTWARE DEVELOPERS, APPLICATIONS</td>\n",
       "      <td id=\"T_63b3d_row2_col4\" class=\"data row2 col4\" >15-1132</td>\n",
       "      <td id=\"T_63b3d_row2_col5\" class=\"data row2 col5\" >PROGRAMMER ANALYST</td>\n",
       "      <td id=\"T_63b3d_row2_col6\" class=\"data row2 col6\" >Y</td>\n",
       "      <td id=\"T_63b3d_row2_col7\" class=\"data row2 col7\" >nan</td>\n",
       "      <td id=\"T_63b3d_row2_col8\" class=\"data row2 col8\" >NEW YORK</td>\n",
       "      <td id=\"T_63b3d_row2_col9\" class=\"data row2 col9\" >NY</td>\n",
       "      <td id=\"T_63b3d_row2_col10\" class=\"data row2 col10\" >nan</td>\n",
       "      <td id=\"T_63b3d_row2_col11\" class=\"data row2 col11\" >NEW YORK</td>\n",
       "      <td id=\"T_63b3d_row2_col12\" class=\"data row2 col12\" >NEW YORK, NEW YORK</td>\n",
       "    </tr>\n",
       "    <tr>\n",
       "      <th id=\"T_63b3d_level0_row3\" class=\"row_heading level0 row3\" >freq</th>\n",
       "      <td id=\"T_63b3d_row3_col0\" class=\"data row3 col0\" >4</td>\n",
       "      <td id=\"T_63b3d_row3_col1\" class=\"data row3 col1\" >765099</td>\n",
       "      <td id=\"T_63b3d_row3_col2\" class=\"data row3 col2\" >23802</td>\n",
       "      <td id=\"T_63b3d_row3_col3\" class=\"data row3 col3\" >172819</td>\n",
       "      <td id=\"T_63b3d_row3_col4\" class=\"data row3 col4\" >173017</td>\n",
       "      <td id=\"T_63b3d_row3_col5\" class=\"data row3 col5\" >41003</td>\n",
       "      <td id=\"T_63b3d_row3_col6\" class=\"data row3 col6\" >704918</td>\n",
       "      <td id=\"T_63b3d_row3_col7\" class=\"data row3 col7\" >nan</td>\n",
       "      <td id=\"T_63b3d_row3_col8\" class=\"data row3 col8\" >171386</td>\n",
       "      <td id=\"T_63b3d_row3_col9\" class=\"data row3 col9\" >230917</td>\n",
       "      <td id=\"T_63b3d_row3_col10\" class=\"data row3 col10\" >nan</td>\n",
       "      <td id=\"T_63b3d_row3_col11\" class=\"data row3 col11\" >281113</td>\n",
       "      <td id=\"T_63b3d_row3_col12\" class=\"data row3 col12\" >171449</td>\n",
       "    </tr>\n",
       "    <tr>\n",
       "      <th id=\"T_63b3d_level0_row4\" class=\"row_heading level0 row4\" >mean</th>\n",
       "      <td id=\"T_63b3d_row4_col0\" class=\"data row4 col0\" >nan</td>\n",
       "      <td id=\"T_63b3d_row4_col1\" class=\"data row4 col1\" >nan</td>\n",
       "      <td id=\"T_63b3d_row4_col2\" class=\"data row4 col2\" >nan</td>\n",
       "      <td id=\"T_63b3d_row4_col3\" class=\"data row4 col3\" >nan</td>\n",
       "      <td id=\"T_63b3d_row4_col4\" class=\"data row4 col4\" >nan</td>\n",
       "      <td id=\"T_63b3d_row4_col5\" class=\"data row4 col5\" >nan</td>\n",
       "      <td id=\"T_63b3d_row4_col6\" class=\"data row4 col6\" >nan</td>\n",
       "      <td id=\"T_63b3d_row4_col7\" class=\"data row4 col7\" >95400.742205</td>\n",
       "      <td id=\"T_63b3d_row4_col8\" class=\"data row4 col8\" >nan</td>\n",
       "      <td id=\"T_63b3d_row4_col9\" class=\"data row4 col9\" >nan</td>\n",
       "      <td id=\"T_63b3d_row4_col10\" class=\"data row4 col10\" >2016.997778</td>\n",
       "      <td id=\"T_63b3d_row4_col11\" class=\"data row4 col11\" >nan</td>\n",
       "      <td id=\"T_63b3d_row4_col12\" class=\"data row4 col12\" >nan</td>\n",
       "    </tr>\n",
       "    <tr>\n",
       "      <th id=\"T_63b3d_level0_row5\" class=\"row_heading level0 row5\" >std</th>\n",
       "      <td id=\"T_63b3d_row5_col0\" class=\"data row5 col0\" >nan</td>\n",
       "      <td id=\"T_63b3d_row5_col1\" class=\"data row5 col1\" >nan</td>\n",
       "      <td id=\"T_63b3d_row5_col2\" class=\"data row5 col2\" >nan</td>\n",
       "      <td id=\"T_63b3d_row5_col3\" class=\"data row5 col3\" >nan</td>\n",
       "      <td id=\"T_63b3d_row5_col4\" class=\"data row5 col4\" >nan</td>\n",
       "      <td id=\"T_63b3d_row5_col5\" class=\"data row5 col5\" >nan</td>\n",
       "      <td id=\"T_63b3d_row5_col6\" class=\"data row5 col6\" >nan</td>\n",
       "      <td id=\"T_63b3d_row5_col7\" class=\"data row5 col7\" >1755489.360112</td>\n",
       "      <td id=\"T_63b3d_row5_col8\" class=\"data row5 col8\" >nan</td>\n",
       "      <td id=\"T_63b3d_row5_col9\" class=\"data row5 col9\" >nan</td>\n",
       "      <td id=\"T_63b3d_row5_col10\" class=\"data row5 col10\" >1.404460</td>\n",
       "      <td id=\"T_63b3d_row5_col11\" class=\"data row5 col11\" >nan</td>\n",
       "      <td id=\"T_63b3d_row5_col12\" class=\"data row5 col12\" >nan</td>\n",
       "    </tr>\n",
       "    <tr>\n",
       "      <th id=\"T_63b3d_level0_row6\" class=\"row_heading level0 row6\" >min</th>\n",
       "      <td id=\"T_63b3d_row6_col0\" class=\"data row6 col0\" >nan</td>\n",
       "      <td id=\"T_63b3d_row6_col1\" class=\"data row6 col1\" >nan</td>\n",
       "      <td id=\"T_63b3d_row6_col2\" class=\"data row6 col2\" >nan</td>\n",
       "      <td id=\"T_63b3d_row6_col3\" class=\"data row6 col3\" >nan</td>\n",
       "      <td id=\"T_63b3d_row6_col4\" class=\"data row6 col4\" >nan</td>\n",
       "      <td id=\"T_63b3d_row6_col5\" class=\"data row6 col5\" >nan</td>\n",
       "      <td id=\"T_63b3d_row6_col6\" class=\"data row6 col6\" >nan</td>\n",
       "      <td id=\"T_63b3d_row6_col7\" class=\"data row6 col7\" >0.000000</td>\n",
       "      <td id=\"T_63b3d_row6_col8\" class=\"data row6 col8\" >nan</td>\n",
       "      <td id=\"T_63b3d_row6_col9\" class=\"data row6 col9\" >nan</td>\n",
       "      <td id=\"T_63b3d_row6_col10\" class=\"data row6 col10\" >2015.000000</td>\n",
       "      <td id=\"T_63b3d_row6_col11\" class=\"data row6 col11\" >nan</td>\n",
       "      <td id=\"T_63b3d_row6_col12\" class=\"data row6 col12\" >nan</td>\n",
       "    </tr>\n",
       "    <tr>\n",
       "      <th id=\"T_63b3d_level0_row7\" class=\"row_heading level0 row7\" >25%</th>\n",
       "      <td id=\"T_63b3d_row7_col0\" class=\"data row7 col0\" >nan</td>\n",
       "      <td id=\"T_63b3d_row7_col1\" class=\"data row7 col1\" >nan</td>\n",
       "      <td id=\"T_63b3d_row7_col2\" class=\"data row7 col2\" >nan</td>\n",
       "      <td id=\"T_63b3d_row7_col3\" class=\"data row7 col3\" >nan</td>\n",
       "      <td id=\"T_63b3d_row7_col4\" class=\"data row7 col4\" >nan</td>\n",
       "      <td id=\"T_63b3d_row7_col5\" class=\"data row7 col5\" >nan</td>\n",
       "      <td id=\"T_63b3d_row7_col6\" class=\"data row7 col6\" >nan</td>\n",
       "      <td id=\"T_63b3d_row7_col7\" class=\"data row7 col7\" >58510.000000</td>\n",
       "      <td id=\"T_63b3d_row7_col8\" class=\"data row7 col8\" >nan</td>\n",
       "      <td id=\"T_63b3d_row7_col9\" class=\"data row7 col9\" >nan</td>\n",
       "      <td id=\"T_63b3d_row7_col10\" class=\"data row7 col10\" >2016.000000</td>\n",
       "      <td id=\"T_63b3d_row7_col11\" class=\"data row7 col11\" >nan</td>\n",
       "      <td id=\"T_63b3d_row7_col12\" class=\"data row7 col12\" >nan</td>\n",
       "    </tr>\n",
       "    <tr>\n",
       "      <th id=\"T_63b3d_level0_row8\" class=\"row_heading level0 row8\" >50%</th>\n",
       "      <td id=\"T_63b3d_row8_col0\" class=\"data row8 col0\" >nan</td>\n",
       "      <td id=\"T_63b3d_row8_col1\" class=\"data row8 col1\" >nan</td>\n",
       "      <td id=\"T_63b3d_row8_col2\" class=\"data row8 col2\" >nan</td>\n",
       "      <td id=\"T_63b3d_row8_col3\" class=\"data row8 col3\" >nan</td>\n",
       "      <td id=\"T_63b3d_row8_col4\" class=\"data row8 col4\" >nan</td>\n",
       "      <td id=\"T_63b3d_row8_col5\" class=\"data row8 col5\" >nan</td>\n",
       "      <td id=\"T_63b3d_row8_col6\" class=\"data row8 col6\" >nan</td>\n",
       "      <td id=\"T_63b3d_row8_col7\" class=\"data row8 col7\" >70325.000000</td>\n",
       "      <td id=\"T_63b3d_row8_col8\" class=\"data row8 col8\" >nan</td>\n",
       "      <td id=\"T_63b3d_row8_col9\" class=\"data row8 col9\" >nan</td>\n",
       "      <td id=\"T_63b3d_row8_col10\" class=\"data row8 col10\" >2017.000000</td>\n",
       "      <td id=\"T_63b3d_row8_col11\" class=\"data row8 col11\" >nan</td>\n",
       "      <td id=\"T_63b3d_row8_col12\" class=\"data row8 col12\" >nan</td>\n",
       "    </tr>\n",
       "    <tr>\n",
       "      <th id=\"T_63b3d_level0_row9\" class=\"row_heading level0 row9\" >75%</th>\n",
       "      <td id=\"T_63b3d_row9_col0\" class=\"data row9 col0\" >nan</td>\n",
       "      <td id=\"T_63b3d_row9_col1\" class=\"data row9 col1\" >nan</td>\n",
       "      <td id=\"T_63b3d_row9_col2\" class=\"data row9 col2\" >nan</td>\n",
       "      <td id=\"T_63b3d_row9_col3\" class=\"data row9 col3\" >nan</td>\n",
       "      <td id=\"T_63b3d_row9_col4\" class=\"data row9 col4\" >nan</td>\n",
       "      <td id=\"T_63b3d_row9_col5\" class=\"data row9 col5\" >nan</td>\n",
       "      <td id=\"T_63b3d_row9_col6\" class=\"data row9 col6\" >nan</td>\n",
       "      <td id=\"T_63b3d_row9_col7\" class=\"data row9 col7\" >86362.000000</td>\n",
       "      <td id=\"T_63b3d_row9_col8\" class=\"data row9 col8\" >nan</td>\n",
       "      <td id=\"T_63b3d_row9_col9\" class=\"data row9 col9\" >nan</td>\n",
       "      <td id=\"T_63b3d_row9_col10\" class=\"data row9 col10\" >2018.000000</td>\n",
       "      <td id=\"T_63b3d_row9_col11\" class=\"data row9 col11\" >nan</td>\n",
       "      <td id=\"T_63b3d_row9_col12\" class=\"data row9 col12\" >nan</td>\n",
       "    </tr>\n",
       "    <tr>\n",
       "      <th id=\"T_63b3d_level0_row10\" class=\"row_heading level0 row10\" >max</th>\n",
       "      <td id=\"T_63b3d_row10_col0\" class=\"data row10 col0\" >nan</td>\n",
       "      <td id=\"T_63b3d_row10_col1\" class=\"data row10 col1\" >nan</td>\n",
       "      <td id=\"T_63b3d_row10_col2\" class=\"data row10 col2\" >nan</td>\n",
       "      <td id=\"T_63b3d_row10_col3\" class=\"data row10 col3\" >nan</td>\n",
       "      <td id=\"T_63b3d_row10_col4\" class=\"data row10 col4\" >nan</td>\n",
       "      <td id=\"T_63b3d_row10_col5\" class=\"data row10 col5\" >nan</td>\n",
       "      <td id=\"T_63b3d_row10_col6\" class=\"data row10 col6\" >nan</td>\n",
       "      <td id=\"T_63b3d_row10_col7\" class=\"data row10 col7\" >297785280.000000</td>\n",
       "      <td id=\"T_63b3d_row10_col8\" class=\"data row10 col8\" >nan</td>\n",
       "      <td id=\"T_63b3d_row10_col9\" class=\"data row10 col9\" >nan</td>\n",
       "      <td id=\"T_63b3d_row10_col10\" class=\"data row10 col10\" >2019.000000</td>\n",
       "      <td id=\"T_63b3d_row10_col11\" class=\"data row10 col11\" >nan</td>\n",
       "      <td id=\"T_63b3d_row10_col12\" class=\"data row10 col12\" >nan</td>\n",
       "    </tr>\n",
       "  </tbody>\n",
       "</table>\n"
      ],
      "text/plain": [
       "<pandas.io.formats.style.Styler at 0x209989633d0>"
      ]
     },
     "execution_count": 16,
     "metadata": {},
     "output_type": "execute_result"
    }
   ],
   "source": [
    "df.describe(include='all').style.background_gradient(cmap='magma')"
   ]
  },
  {
   "cell_type": "markdown",
   "id": "26bdde52",
   "metadata": {},
   "source": [
    "   ### Here is the list of all supported values for `cmap` :\n",
    "        'Accent', 'Accent_r', 'Blues', 'Blues_r', 'BrBG', 'BrBG_r', 'BuGn', 'BuGn_r', 'BuPu', 'BuPu_r', 'CMRmap', 'CMRmap_r', 'Dark2', 'Dark2_r', 'GnBu', 'GnBu_r', 'Greens', 'Greens_r', 'Greys', 'Greys_r', 'OrRd', 'OrRd_r', 'Oranges', 'Oranges_r', 'PRGn', 'PRGn_r', 'Paired', 'Paired_r', 'Pastel1', 'Pastel1_r', 'Pastel2', 'Pastel2_r', 'PiYG', 'PiYG_r', 'PuBu', 'PuBuGn', 'PuBuGn_r', 'PuBu_r', 'PuOr', 'PuOr_r', 'PuRd', 'PuRd_r', 'Purples', 'Purples_r', 'RdBu', 'RdBu_r', 'RdGy', 'RdGy_r', 'RdPu', 'RdPu_r', 'RdYlBu', 'RdYlBu_r', 'RdYlGn', 'RdYlGn_r', 'Reds', 'Reds_r', 'Set1', 'Set1_r', 'Set2', 'Set2_r', 'Set3', 'Set3_r', 'Spectral', 'Spectral_r', 'Wistia', 'Wistia_r', 'YlGn', 'YlGnBu', 'YlGnBu_r', 'YlGn_r', 'YlOrBr', 'YlOrBr_r', 'YlOrRd', 'YlOrRd_r', 'afmhot', 'afmhot_r', 'autumn', 'autumn_r', 'binary', 'binary_r', 'bone', 'bone_r', 'brg', 'brg_r', 'bwr', 'bwr_r', 'cividis', 'cividis_r', 'cool', 'cool_r', 'coolwarm', 'coolwarm_r', 'copper', 'copper_r', 'crest', 'crest_r', 'cubehelix', 'cubehelix_r', 'flag', 'flag_r', 'flare', 'flare_r', 'gist_earth', 'gist_earth_r', 'gist_gray', 'gist_gray_r', 'gist_heat', 'gist_heat_r', 'gist_ncar', 'gist_ncar_r', 'gist_rainbow', 'gist_rainbow_r', 'gist_stern', 'gist_stern_r', 'gist_yarg', 'gist_yarg_r', 'gnuplot', 'gnuplot2', 'gnuplot2_r', 'gnuplot_r', 'gray', 'gray_r', 'hot', 'hot_r', 'hsv', 'hsv_r', 'icefire', 'icefire_r', 'inferno', 'inferno_r', 'jet', 'jet_r', 'magma', 'magma_r', 'mako', 'mako_r', 'nipy_spectral', 'nipy_spectral_r', 'ocean', 'ocean_r', 'pink', 'pink_r', 'plasma', 'plasma_r', 'prism', 'prism_r', 'rainbow', 'rainbow_r', 'rocket', 'rocket_r', 'seismic', 'seismic_r', 'spring', 'spring_r', 'summer', 'summer_r', 'tab10', 'tab10_r', 'tab20', 'tab20_r', 'tab20b', 'tab20b_r', 'tab20c', 'tab20c_r', 'terrain', 'terrain_r', 'turbo', 'turbo_r', 'twilight', 'twilight_r', 'twilight_shifted', 'twilight_shifted_r', 'viridis', 'viridis_r', 'vlag', 'vlag_r', 'winter', 'winter_r'"
   ]
  },
  {
   "cell_type": "code",
   "execution_count": 20,
   "id": "0bf7c1d7",
   "metadata": {},
   "outputs": [
    {
     "data": {
      "text/plain": [
       "CASE_NUMBER             0\n",
       "CASE_STATUS             0\n",
       "EMPLOYER_NAME          21\n",
       "SOC_NAME                6\n",
       "SOC_CODE                4\n",
       "JOB_TITLE               5\n",
       "FULL_TIME_POSITION      1\n",
       "PREVAILING_WAGE         4\n",
       "WORKSITE_CITY          28\n",
       "WORKSITE_STATE_ABB      0\n",
       "YEAR                    0\n",
       "WORKSITE_STATE_FULL     0\n",
       "WORKSITE                0\n",
       "dtype: int64"
      ]
     },
     "execution_count": 20,
     "metadata": {},
     "output_type": "execute_result"
    }
   ],
   "source": [
    "df.isnull().sum()"
   ]
  },
  {
   "cell_type": "code",
   "execution_count": 21,
   "id": "ae4a0cdd",
   "metadata": {},
   "outputs": [],
   "source": [
    "df.fillna(0, inplace=True)"
   ]
  },
  {
   "cell_type": "code",
   "execution_count": 22,
   "id": "08719286",
   "metadata": {},
   "outputs": [],
   "source": [
    "df.drop_duplicates(inplace=True)"
   ]
  },
  {
   "cell_type": "code",
   "execution_count": 23,
   "id": "5a96cba9",
   "metadata": {},
   "outputs": [],
   "source": [
    "df.replace({\"Y\":1, \"N\":0}, inplace=True)"
   ]
  },
  {
   "cell_type": "markdown",
   "id": "4593cbcf",
   "metadata": {},
   "source": [
    "   ## Analysis of the dataset -"
   ]
  },
  {
   "cell_type": "markdown",
   "id": "0cebcbad",
   "metadata": {},
   "source": [
    "   ### 1. Petition distributed by case statuses"
   ]
  },
  {
   "cell_type": "code",
   "execution_count": 27,
   "id": "30780b7b",
   "metadata": {},
   "outputs": [
    {
     "data": {
      "text/plain": [
       "CERTIFIED              765094\n",
       "CERTIFIED-WITHDRAWN     53049\n",
       "WITHDRAWN               27297\n",
       "DENIED                  11771\n",
       "Name: CASE_STATUS, dtype: int64"
      ]
     },
     "execution_count": 27,
     "metadata": {},
     "output_type": "execute_result"
    }
   ],
   "source": [
    "df[\"CASE_STATUS\"].value_counts()"
   ]
  },
  {
   "cell_type": "code",
   "execution_count": 54,
   "id": "0aa1e1bd",
   "metadata": {},
   "outputs": [
    {
     "data": {
      "image/png": "[encoded data removed]",
      "text/plain": [
       "<Figure size 800x600 with 1 Axes>"
      ]
     },
     "metadata": {},
     "output_type": "display_data"
    }
   ],
   "source": [
    "plt.figure(figsize=(8, 6))\n",
    "plt.pie(df[\"CASE_STATUS\"].value_counts(), labels=df[\"CASE_STATUS\"].value_counts().index, autopct='%1.2f%%', \n",
    "        explode=[0, 0.1, 0.1, 0.1])\n",
    "plt.title(\"Petition distribution by case statuses\")\n",
    "plt.show()"
   ]
  },
  {
   "cell_type": "markdown",
   "id": "191451d8",
   "metadata": {},
   "source": [
    "   ### 2. Top employers filing the petitions"
   ]
  },
  {
   "cell_type": "code",
   "execution_count": 56,
   "id": "5d73a69f",
   "metadata": {},
   "outputs": [
    {
     "data": {
      "text/plain": [
       "INFOSYS LIMITED                             23799\n",
       "TATA CONSULTANCY SERVICES LIMITED           23775\n",
       "DELOITTE CONSULTING LLP                     18579\n",
       "CAPGEMINI AMERICA INC                       16498\n",
       "ACCENTURE LLP                               11473\n",
       "                                            ...  \n",
       "HEARTLAND EMPLOYMENT SERVICES, LLC D/B/A        1\n",
       "PRIME HEALTHCARE SERVICES, INC.                 1\n",
       "THE SARAH JANE BRAIN FOUNDATION                 1\n",
       "REHABILITATION MASTER, PC                       1\n",
       "WRWP LLC                                        1\n",
       "Name: EMPLOYER_NAME, Length: 70045, dtype: int64"
      ]
     },
     "execution_count": 56,
     "metadata": {},
     "output_type": "execute_result"
    }
   ],
   "source": [
    "df[\"EMPLOYER_NAME\"].value_counts()"
   ]
  },
  {
   "cell_type": "markdown",
   "id": "8d6333d5",
   "metadata": {},
   "source": [
    "   ### 3. Top 15 companies that filed the most visa application"
   ]
  },
  {
   "cell_type": "code",
   "execution_count": 57,
   "id": "4c83b19c",
   "metadata": {},
   "outputs": [
    {
     "data": {
      "text/plain": [
       "INFOSYS LIMITED                           23799\n",
       "TATA CONSULTANCY SERVICES LIMITED         23775\n",
       "DELOITTE CONSULTING LLP                   18579\n",
       "CAPGEMINI AMERICA INC                     16498\n",
       "ACCENTURE LLP                             11473\n",
       "ERNST & YOUNG U.S. LLP                    11192\n",
       "COGNIZANT TECHNOLOGY SOLUTIONS US CORP    10096\n",
       "WIPRO LIMITED                              9289\n",
       "IBM INDIA PRIVATE LIMITED                  8289\n",
       "IBM CORPORATION                            5086\n",
       "JPMORGAN CHASE & CO.                       4619\n",
       "HCL AMERICA, INC.                          4489\n",
       "L&T TECHNOLOGY SERVICES LIMITED            4044\n",
       "TECH MAHINDRA (AMERICAS),INC.              4025\n",
       "CUMMINS INC.                               3491\n",
       "Name: EMPLOYER_NAME, dtype: int64"
      ]
     },
     "execution_count": 57,
     "metadata": {},
     "output_type": "execute_result"
    }
   ],
   "source": [
    "df[\"EMPLOYER_NAME\"].value_counts().head(15)"
   ]
  },
  {
   "cell_type": "markdown",
   "id": "d77195f1",
   "metadata": {},
   "source": [
    "   ### 4. Top employers granting maximum prevailing wages"
   ]
  },
  {
   "cell_type": "code",
   "execution_count": 58,
   "id": "5d39ef82",
   "metadata": {},
   "outputs": [
    {
     "data": {
      "text/html": [
       "<div>\n",
       "<style scoped>\n",
       "    .dataframe tbody tr th:only-of-type {\n",
       "        vertical-align: middle;\n",
       "    }\n",
       "\n",
       "    .dataframe tbody tr th {\n",
       "        vertical-align: top;\n",
       "    }\n",
       "\n",
       "    .dataframe thead th {\n",
       "        text-align: right;\n",
       "    }\n",
       "</style>\n",
       "<table border=\"1\" class=\"dataframe\">\n",
       "  <thead>\n",
       "    <tr style=\"text-align: right;\">\n",
       "      <th></th>\n",
       "      <th>index</th>\n",
       "      <th>EMPLOYER_NAME</th>\n",
       "      <th>PREVAILING_WAGE</th>\n",
       "    </tr>\n",
       "  </thead>\n",
       "  <tbody>\n",
       "    <tr>\n",
       "      <th>0</th>\n",
       "      <td>475470</td>\n",
       "      <td>ADVOCATE HEALTH AND HOSPITALS CORPORATION</td>\n",
       "      <td>297785280.0</td>\n",
       "    </tr>\n",
       "    <tr>\n",
       "      <th>1</th>\n",
       "      <td>528379</td>\n",
       "      <td>LUPKIN PLLC</td>\n",
       "      <td>267587840.0</td>\n",
       "    </tr>\n",
       "    <tr>\n",
       "      <th>2</th>\n",
       "      <td>172879</td>\n",
       "      <td>3M COMPANY</td>\n",
       "      <td>251796480.0</td>\n",
       "    </tr>\n",
       "    <tr>\n",
       "      <th>3</th>\n",
       "      <td>498977</td>\n",
       "      <td>QUINTILES IMS INCORPORATED</td>\n",
       "      <td>247557440.0</td>\n",
       "    </tr>\n",
       "    <tr>\n",
       "      <th>4</th>\n",
       "      <td>78407</td>\n",
       "      <td>HSBC SECURITIES (USA) INC.</td>\n",
       "      <td>242971040.0</td>\n",
       "    </tr>\n",
       "    <tr>\n",
       "      <th>5</th>\n",
       "      <td>578029</td>\n",
       "      <td>NTT DATA SERVICES, LLC</td>\n",
       "      <td>232232000.0</td>\n",
       "    </tr>\n",
       "    <tr>\n",
       "      <th>6</th>\n",
       "      <td>513595</td>\n",
       "      <td>VICE MEDIA LLC</td>\n",
       "      <td>230293440.0</td>\n",
       "    </tr>\n",
       "    <tr>\n",
       "      <th>7</th>\n",
       "      <td>522563</td>\n",
       "      <td>NTT DATA, INC.</td>\n",
       "      <td>216881600.0</td>\n",
       "    </tr>\n",
       "    <tr>\n",
       "      <th>8</th>\n",
       "      <td>519682</td>\n",
       "      <td>NTT DATA, INC.</td>\n",
       "      <td>216881600.0</td>\n",
       "    </tr>\n",
       "    <tr>\n",
       "      <th>9</th>\n",
       "      <td>524269</td>\n",
       "      <td>U.S. CELLULAR CORPORATION</td>\n",
       "      <td>215931040.0</td>\n",
       "    </tr>\n",
       "  </tbody>\n",
       "</table>\n",
       "</div>"
      ],
      "text/plain": [
       "    index                              EMPLOYER_NAME  PREVAILING_WAGE\n",
       "0  475470  ADVOCATE HEALTH AND HOSPITALS CORPORATION      297785280.0\n",
       "1  528379                                LUPKIN PLLC      267587840.0\n",
       "2  172879                                 3M COMPANY      251796480.0\n",
       "3  498977                 QUINTILES IMS INCORPORATED      247557440.0\n",
       "4   78407                 HSBC SECURITIES (USA) INC.      242971040.0\n",
       "5  578029                     NTT DATA SERVICES, LLC      232232000.0\n",
       "6  513595                             VICE MEDIA LLC      230293440.0\n",
       "7  522563                             NTT DATA, INC.      216881600.0\n",
       "8  519682                             NTT DATA, INC.      216881600.0\n",
       "9  524269                  U.S. CELLULAR CORPORATION      215931040.0"
      ]
     },
     "execution_count": 58,
     "metadata": {},
     "output_type": "execute_result"
    }
   ],
   "source": [
    "df.sort_values(by=\"PREVAILING_WAGE\",ascending=False)[['EMPLOYER_NAME','PREVAILING_WAGE']].head(10).reset_index()"
   ]
  },
  {
   "cell_type": "markdown",
   "id": "30d17586",
   "metadata": {},
   "source": [
    "   ### 5. Top 20 states filing highest visa petitions"
   ]
  },
  {
   "cell_type": "code",
   "execution_count": 66,
   "id": "2186e1f0",
   "metadata": {},
   "outputs": [
    {
     "data": {
      "text/plain": [
       " NEW YORK        280746\n",
       " ILLINOIS        163064\n",
       " PENNSYLVANIA    114655\n",
       " MICHIGAN        100882\n",
       " OHIO             79617\n",
       " MINNESOTA        51220\n",
       " WISCONSIN        33727\n",
       " INDIANA          32785\n",
       "NEW YORK            172\n",
       "                    159\n",
       " NY                  27\n",
       " PA                  26\n",
       " IL                  17\n",
       " MI                  14\n",
       " TROY                 9\n",
       " OH                   8\n",
       " MN                   5\n",
       " MINNEAPOLIS          3\n",
       " DEARBORN             3\n",
       "NY USA                3\n",
       "Name: WORKSITE, dtype: int64"
      ]
     },
     "execution_count": 66,
     "metadata": {},
     "output_type": "execute_result"
    }
   ],
   "source": [
    "df[\"WORKSITE\"].str.split(',').str[1].value_counts().head(20)"
   ]
  },
  {
   "cell_type": "markdown",
   "id": "e3cf1d43",
   "metadata": {},
   "source": [
    "   ### 6. Petition distribution by year"
   ]
  },
  {
   "cell_type": "code",
   "execution_count": 70,
   "id": "fff033b6",
   "metadata": {},
   "outputs": [
    {
     "data": {
      "image/png": "[encoded data removed]",
      "text/plain": [
       "<Figure size 640x480 with 1 Axes>"
      ]
     },
     "metadata": {},
     "output_type": "display_data"
    }
   ],
   "source": [
    "df[\"YEAR\"].value_counts().plot(kind='bar')\n",
    "plt.title(\"Petition distribution by year\")\n",
    "plt.xlabel(\"Year\")\n",
    "plt.ylabel(\"Number of Petitions\")\n",
    "plt.show()"
   ]
  },
  {
   "cell_type": "markdown",
   "id": "80d82221",
   "metadata": {},
   "source": [
    "   ### 7. Number of visa petitions denied"
   ]
  },
  {
   "cell_type": "code",
   "execution_count": 71,
   "id": "ef2ae1de",
   "metadata": {},
   "outputs": [
    {
     "name": "stdout",
     "output_type": "stream",
     "text": [
      "Number of visa petitions denied:  11771\n"
     ]
    }
   ],
   "source": [
    "print(\"Number of visa petitions denied: \", df['CASE_STATUS'].value_counts().loc['DENIED'])"
   ]
  },
  {
   "cell_type": "markdown",
   "id": "528039c9",
   "metadata": {},
   "source": [
    "   ### 8. Rate of visas denied from last 5 years"
   ]
  },
  {
   "cell_type": "code",
   "execution_count": null,
   "id": "d7141896",
   "metadata": {},
   "outputs": [],
   "source": []
  },
  {
   "cell_type": "markdown",
   "id": "132aadf4",
   "metadata": {},
   "source": [
    "   ### 9. Number of visa petitions filed by states"
   ]
  },
  {
   "cell_type": "code",
   "execution_count": 72,
   "id": "35e1b2cb",
   "metadata": {},
   "outputs": [
    {
     "data": {
      "text/plain": [
       " NEW YORK        280746\n",
       " ILLINOIS        163064\n",
       " PENNSYLVANIA    114655\n",
       " MICHIGAN        100882\n",
       " OHIO             79617\n",
       "                  ...  \n",
       " BLDG. 1              1\n",
       " SOUTHFIELD           1\n",
       " SUITE 201            1\n",
       " WEST CHESTER         1\n",
       " Brooklyn             1\n",
       "Name: WORKSITE, Length: 78, dtype: int64"
      ]
     },
     "execution_count": 72,
     "metadata": {},
     "output_type": "execute_result"
    }
   ],
   "source": [
    "df['WORKSITE'].str.split(',').str[1].value_counts()"
   ]
  },
  {
   "cell_type": "markdown",
   "id": "422fa82b",
   "metadata": {},
   "source": [
    "   ### 10. Rate of denial of visa petition by the states"
   ]
  },
  {
   "cell_type": "code",
   "execution_count": null,
   "id": "784c5b1b",
   "metadata": {},
   "outputs": [],
   "source": []
  },
  {
   "cell_type": "markdown",
   "id": "4f187984",
   "metadata": {},
   "source": [
    "   ### 11. Top 25 job titles"
   ]
  },
  {
   "cell_type": "code",
   "execution_count": 73,
   "id": "4e659f1b",
   "metadata": {},
   "outputs": [
    {
     "data": {
      "text/plain": [
       "JOB_TITLE                  \n",
       "PROGRAMMER ANALYST             41003\n",
       "SOFTWARE ENGINEER              27647\n",
       "SOFTWARE DEVELOPER             26615\n",
       "SYSTEMS ANALYST                10922\n",
       "DEVELOPER                      10227\n",
       "ASSOCIATE                       9257\n",
       "COMPUTER PROGRAMMER             9201\n",
       "BUSINESS ANALYST                9154\n",
       "CONSULTANT                      8911\n",
       "SENIOR CONSULTANT               8221\n",
       "ANALYST                         7805\n",
       "ASSISTANT PROFESSOR             7399\n",
       "COMPUTER SYSTEMS ANALYST        6805\n",
       "PHYSICAL THERAPIST              5930\n",
       "SENIOR SOFTWARE ENGINEER        5735\n",
       "SENIOR SYSTEMS ANALYST JC60     5680\n",
       "PROJECT MANAGER                 5502\n",
       "SENIOR SOFTWARE DEVELOPER       4760\n",
       "TECHNOLOGY LEAD - US            4246\n",
       "DEVELOPER USER INTERFACE        3893\n",
       "JAVA DEVELOPER                  3755\n",
       "DATABASE ADMINISTRATOR          3748\n",
       "ARCHITECT                       3576\n",
       "MANAGER                         3470\n",
       "VICE PRESIDENT                  3422\n",
       "dtype: int64"
      ]
     },
     "execution_count": 73,
     "metadata": {},
     "output_type": "execute_result"
    }
   ],
   "source": [
    "df[[\"JOB_TITLE\"]].value_counts().head(25)"
   ]
  },
  {
   "cell_type": "markdown",
   "id": "1b05e22b",
   "metadata": {},
   "source": [
    "   ### 12. Top 10 occupations with the highest wages"
   ]
  },
  {
   "cell_type": "code",
   "execution_count": 74,
   "id": "f9c8806d",
   "metadata": {},
   "outputs": [
    {
     "data": {
      "text/html": [
       "<div>\n",
       "<style scoped>\n",
       "    .dataframe tbody tr th:only-of-type {\n",
       "        vertical-align: middle;\n",
       "    }\n",
       "\n",
       "    .dataframe tbody tr th {\n",
       "        vertical-align: top;\n",
       "    }\n",
       "\n",
       "    .dataframe thead th {\n",
       "        text-align: right;\n",
       "    }\n",
       "</style>\n",
       "<table border=\"1\" class=\"dataframe\">\n",
       "  <thead>\n",
       "    <tr style=\"text-align: right;\">\n",
       "      <th></th>\n",
       "      <th>index</th>\n",
       "      <th>JOB_TITLE</th>\n",
       "      <th>PREVAILING_WAGE</th>\n",
       "    </tr>\n",
       "  </thead>\n",
       "  <tbody>\n",
       "    <tr>\n",
       "      <th>0</th>\n",
       "      <td>475470</td>\n",
       "      <td>MEDICAL PHYSICIST</td>\n",
       "      <td>297785280.0</td>\n",
       "    </tr>\n",
       "    <tr>\n",
       "      <th>1</th>\n",
       "      <td>528379</td>\n",
       "      <td>ASSOCIATE ATTORNEY</td>\n",
       "      <td>267587840.0</td>\n",
       "    </tr>\n",
       "    <tr>\n",
       "      <th>2</th>\n",
       "      <td>172879</td>\n",
       "      <td>GLOBAL BUSINESS MANAGER</td>\n",
       "      <td>251796480.0</td>\n",
       "    </tr>\n",
       "    <tr>\n",
       "      <th>3</th>\n",
       "      <td>498977</td>\n",
       "      <td>ENGAGEMENT MANAGER - IM</td>\n",
       "      <td>247557440.0</td>\n",
       "    </tr>\n",
       "    <tr>\n",
       "      <th>4</th>\n",
       "      <td>78407</td>\n",
       "      <td>BUSINESS ANALYST</td>\n",
       "      <td>242971040.0</td>\n",
       "    </tr>\n",
       "    <tr>\n",
       "      <th>5</th>\n",
       "      <td>578029</td>\n",
       "      <td>TECHNICAL SOLUTIONS ARCHITECTURE ADVISOR</td>\n",
       "      <td>232232000.0</td>\n",
       "    </tr>\n",
       "    <tr>\n",
       "      <th>6</th>\n",
       "      <td>513595</td>\n",
       "      <td>ASSOCIATE STRATEGY DIRECTOR</td>\n",
       "      <td>230293440.0</td>\n",
       "    </tr>\n",
       "    <tr>\n",
       "      <th>7</th>\n",
       "      <td>522563</td>\n",
       "      <td>APPLICATION SOFTWARE DEVELOPMENT SENIOR CONSUL...</td>\n",
       "      <td>216881600.0</td>\n",
       "    </tr>\n",
       "    <tr>\n",
       "      <th>8</th>\n",
       "      <td>519682</td>\n",
       "      <td>APPLICATION SOFTWARE DEVELOPMENT SENIOR CONSUL...</td>\n",
       "      <td>216881600.0</td>\n",
       "    </tr>\n",
       "    <tr>\n",
       "      <th>9</th>\n",
       "      <td>524269</td>\n",
       "      <td>SOFTWARE TEST ENGINEER III, INFORMATION MANAGE...</td>\n",
       "      <td>215931040.0</td>\n",
       "    </tr>\n",
       "  </tbody>\n",
       "</table>\n",
       "</div>"
      ],
      "text/plain": [
       "    index                                          JOB_TITLE  PREVAILING_WAGE\n",
       "0  475470                                  MEDICAL PHYSICIST      297785280.0\n",
       "1  528379                                 ASSOCIATE ATTORNEY      267587840.0\n",
       "2  172879                            GLOBAL BUSINESS MANAGER      251796480.0\n",
       "3  498977                            ENGAGEMENT MANAGER - IM      247557440.0\n",
       "4   78407                                   BUSINESS ANALYST      242971040.0\n",
       "5  578029           TECHNICAL SOLUTIONS ARCHITECTURE ADVISOR      232232000.0\n",
       "6  513595                        ASSOCIATE STRATEGY DIRECTOR      230293440.0\n",
       "7  522563  APPLICATION SOFTWARE DEVELOPMENT SENIOR CONSUL...      216881600.0\n",
       "8  519682  APPLICATION SOFTWARE DEVELOPMENT SENIOR CONSUL...      216881600.0\n",
       "9  524269  SOFTWARE TEST ENGINEER III, INFORMATION MANAGE...      215931040.0"
      ]
     },
     "execution_count": 74,
     "metadata": {},
     "output_type": "execute_result"
    }
   ],
   "source": [
    "df.sort_values('PREVAILING_WAGE',ascending=False)[['JOB_TITLE','PREVAILING_WAGE']].head(10).reset_index()"
   ]
  },
  {
   "cell_type": "markdown",
   "id": "b83ae0ed",
   "metadata": {},
   "source": [
    "   ### 13. To analyse the fraction of full-time and part-time workers"
   ]
  },
  {
   "cell_type": "code",
   "execution_count": null,
   "id": "27c61ff1",
   "metadata": {},
   "outputs": [],
   "source": []
  }
 ],
 "metadata": {
  "kernelspec": {
   "display_name": "Python 3 (ipykernel)",
   "language": "python",
   "name": "python3"
  },
  "language_info": {
   "codemirror_mode": {
    "name": "ipython",
    "version": 3
   },
   "file_extension": ".py",
   "mimetype": "text/x-python",
   "name": "python",
   "nbconvert_exporter": "python",
   "pygments_lexer": "ipython3",
   "version": "3.10.9"
  }
 },
 "nbformat": 4,
 "nbformat_minor": 5
}
